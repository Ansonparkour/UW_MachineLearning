{
 "metadata": {
  "kernelspec": {
   "display_name": "Python 2",
   "language": "python",
   "name": "python2"
  },
  "language_info": {
   "codemirror_mode": {
    "name": "ipython",
    "version": 2
   },
   "file_extension": ".py",
   "mimetype": "text/x-python",
   "name": "python",
   "nbconvert_exporter": "python",
   "pygments_lexer": "ipython2",
   "version": "2.7.10"
  },
  "name": ""
 },
 "nbformat": 3,
 "nbformat_minor": 0,
 "worksheets": [
  {
   "cells": [
    {
     "cell_type": "heading",
     "level": 1,
     "metadata": {},
     "source": [
      "Regression Week 5: Feature Selection and LASSO (Interpretation)"
     ]
    },
    {
     "cell_type": "markdown",
     "metadata": {},
     "source": [
      "In this notebook, you will use LASSO to select features, building on a pre-implemented solver for LASSO (using GraphLab Create, though you can use other solvers). You will:\n",
      "* Run LASSO with different L1 penalties.\n",
      "* Choose best L1 penalty using a validation set.\n",
      "* Choose best L1 penalty using a validation set, with additional constraint on the size of subset.\n",
      "\n",
      "In the second notebook, you will implement your own LASSO solver, using coordinate descent. "
     ]
    },
    {
     "cell_type": "heading",
     "level": 1,
     "metadata": {},
     "source": [
      "Fire up graphlab create"
     ]
    },
    {
     "cell_type": "code",
     "collapsed": false,
     "input": [
      "import graphlab\n",
      "graphlab.product_key.set_product_key('A863-FB21-4BF2-A89F-8522-0B50-1C55-FCEA')"
     ],
     "language": "python",
     "metadata": {},
     "outputs": [
      {
       "ename": "ImportError",
       "evalue": "No module named graphlab",
       "output_type": "pyerr",
       "traceback": [
        "\u001b[1;31m---------------------------------------------------------------------------\u001b[0m\n\u001b[1;31mImportError\u001b[0m                               Traceback (most recent call last)",
        "\u001b[1;32m<ipython-input-1-f7bcbbff1fc3>\u001b[0m in \u001b[0;36m<module>\u001b[1;34m()\u001b[0m\n\u001b[1;32m----> 1\u001b[1;33m \u001b[1;32mimport\u001b[0m \u001b[0mgraphlab\u001b[0m\u001b[1;33m\u001b[0m\u001b[0m\n\u001b[0m\u001b[0;32m      2\u001b[0m \u001b[0mgraphlab\u001b[0m\u001b[1;33m.\u001b[0m\u001b[0mproduct_key\u001b[0m\u001b[1;33m.\u001b[0m\u001b[0mset_product_key\u001b[0m\u001b[1;33m(\u001b[0m\u001b[1;34m'A863-FB21-4BF2-A89F-8522-0B50-1C55-FCEA'\u001b[0m\u001b[1;33m)\u001b[0m\u001b[1;33m\u001b[0m\u001b[0m\n",
        "\u001b[1;31mImportError\u001b[0m: No module named graphlab"
       ]
      }
     ],
     "prompt_number": 1
    },
    {
     "cell_type": "code",
     "collapsed": true,
     "input": [
      "import numpy as np"
     ],
     "language": "python",
     "metadata": {},
     "outputs": [],
     "prompt_number": 23
    },
    {
     "cell_type": "markdown",
     "metadata": {},
     "source": [
      "# Load in house sales data\n",
      "\n",
      "Dataset is from house sales in King County, the region where the city of Seattle, WA is located."
     ]
    },
    {
     "cell_type": "code",
     "collapsed": false,
     "input": [
      "sales = graphlab.SFrame('/Users/Sean/Google Drive/Z_2016 Spring/UW_Machine Learning/class2_regression/class2_week4/kc_house_data.gl/')"
     ],
     "language": "python",
     "metadata": {
      "scrolled": true
     },
     "outputs": [],
     "prompt_number": 9
    },
    {
     "cell_type": "code",
     "collapsed": false,
     "input": [],
     "language": "python",
     "metadata": {},
     "outputs": [],
     "prompt_number": null
    },
    {
     "cell_type": "heading",
     "level": 1,
     "metadata": {},
     "source": [
      "Create new features"
     ]
    },
    {
     "cell_type": "markdown",
     "metadata": {},
     "source": [
      "As in Week 2, we consider features that are some transformations of inputs."
     ]
    },
    {
     "cell_type": "code",
     "collapsed": true,
     "input": [
      "from math import log, sqrt\n",
      "sales['sqft_living_sqrt'] = sales['sqft_living'].apply(sqrt)\n",
      "sales['sqft_lot_sqrt'] = sales['sqft_lot'].apply(sqrt)\n",
      "sales['bedrooms_square'] = sales['bedrooms']*sales['bedrooms']\n",
      "\n",
      "# In the dataset, 'floors' was defined with type string, \n",
      "# so we'll convert them to float, before creating a new feature.\n",
      "sales['floors'] = sales['floors'].astype(float) \n",
      "sales['floors_square'] = sales['floors']*sales['floors']"
     ],
     "language": "python",
     "metadata": {},
     "outputs": [],
     "prompt_number": 11
    },
    {
     "cell_type": "markdown",
     "metadata": {},
     "source": [
      "* Squaring bedrooms will increase the separation between not many bedrooms (e.g. 1) and lots of bedrooms (e.g. 4) since 1^2 = 1 but 4^2 = 16. Consequently this variable will mostly affect houses with many bedrooms.\n",
      "* On the other hand, taking square root of sqft_living will decrease the separation between big house and small house. The owner may not be exactly twice as happy for getting a house that is twice as big."
     ]
    },
    {
     "cell_type": "heading",
     "level": 1,
     "metadata": {},
     "source": [
      "Learn regression weights with L1 penalty"
     ]
    },
    {
     "cell_type": "markdown",
     "metadata": {},
     "source": [
      "Let us fit a model with all the features available, plus the features we just created above."
     ]
    },
    {
     "cell_type": "code",
     "collapsed": false,
     "input": [
      "all_features = ['bedrooms', 'bedrooms_square',\n",
      "            'bathrooms',\n",
      "            'sqft_living', 'sqft_living_sqrt',\n",
      "            'sqft_lot', 'sqft_lot_sqrt',\n",
      "            'floors', 'floors_square',\n",
      "            'waterfront', 'view', 'condition', 'grade',\n",
      "            'sqft_above',\n",
      "            'sqft_basement',\n",
      "            'yr_built', 'yr_renovated']"
     ],
     "language": "python",
     "metadata": {},
     "outputs": [],
     "prompt_number": 12
    },
    {
     "cell_type": "markdown",
     "metadata": {},
     "source": [
      "Applying L1 penalty requires adding an extra parameter (`l1_penalty`) to the linear regression call in GraphLab Create. (Other tools may have separate implementations of LASSO.)  Note that it's important to set `l2_penalty=0` to ensure we don't introduce an additional L2 penalty."
     ]
    },
    {
     "cell_type": "code",
     "collapsed": false,
     "input": [
      "model_all = graphlab.linear_regression.create(sales, target='price', features=all_features,\n",
      "                                              validation_set=None, \n",
      "                                              l2_penalty=0., l1_penalty=1e10)"
     ],
     "language": "python",
     "metadata": {},
     "outputs": [],
     "prompt_number": 13
    },
    {
     "cell_type": "markdown",
     "metadata": {},
     "source": [
      "Find what features had non-zero weight."
     ]
    },
    {
     "cell_type": "code",
     "collapsed": false,
     "input": [
      "weight = model_all.get('coefficients')\n",
      "nonzero_weight = weight[weight['value']<>0]\n",
      "nonzero_weight"
     ],
     "language": "python",
     "metadata": {},
     "outputs": [
      {
       "html": [
        "<div style=\"max-height:1000px;max-width:1500px;overflow:auto;\"><table frame=\"box\" rules=\"cols\">\n",
        "    <tr>\n",
        "        <th style=\"padding-left: 1em; padding-right: 1em; text-align: center\">name</th>\n",
        "        <th style=\"padding-left: 1em; padding-right: 1em; text-align: center\">index</th>\n",
        "        <th style=\"padding-left: 1em; padding-right: 1em; text-align: center\">value</th>\n",
        "        <th style=\"padding-left: 1em; padding-right: 1em; text-align: center\">stderr</th>\n",
        "    </tr>\n",
        "    <tr>\n",
        "        <td style=\"padding-left: 1em; padding-right: 1em; text-align: center; vertical-align: top\">(intercept)</td>\n",
        "        <td style=\"padding-left: 1em; padding-right: 1em; text-align: center; vertical-align: top\">None</td>\n",
        "        <td style=\"padding-left: 1em; padding-right: 1em; text-align: center; vertical-align: top\">274873.05595</td>\n",
        "        <td style=\"padding-left: 1em; padding-right: 1em; text-align: center; vertical-align: top\">None</td>\n",
        "    </tr>\n",
        "    <tr>\n",
        "        <td style=\"padding-left: 1em; padding-right: 1em; text-align: center; vertical-align: top\">bathrooms</td>\n",
        "        <td style=\"padding-left: 1em; padding-right: 1em; text-align: center; vertical-align: top\">None</td>\n",
        "        <td style=\"padding-left: 1em; padding-right: 1em; text-align: center; vertical-align: top\">8468.53108691</td>\n",
        "        <td style=\"padding-left: 1em; padding-right: 1em; text-align: center; vertical-align: top\">None</td>\n",
        "    </tr>\n",
        "    <tr>\n",
        "        <td style=\"padding-left: 1em; padding-right: 1em; text-align: center; vertical-align: top\">sqft_living</td>\n",
        "        <td style=\"padding-left: 1em; padding-right: 1em; text-align: center; vertical-align: top\">None</td>\n",
        "        <td style=\"padding-left: 1em; padding-right: 1em; text-align: center; vertical-align: top\">24.4207209824</td>\n",
        "        <td style=\"padding-left: 1em; padding-right: 1em; text-align: center; vertical-align: top\">None</td>\n",
        "    </tr>\n",
        "    <tr>\n",
        "        <td style=\"padding-left: 1em; padding-right: 1em; text-align: center; vertical-align: top\">sqft_living_sqrt</td>\n",
        "        <td style=\"padding-left: 1em; padding-right: 1em; text-align: center; vertical-align: top\">None</td>\n",
        "        <td style=\"padding-left: 1em; padding-right: 1em; text-align: center; vertical-align: top\">350.060553386</td>\n",
        "        <td style=\"padding-left: 1em; padding-right: 1em; text-align: center; vertical-align: top\">None</td>\n",
        "    </tr>\n",
        "    <tr>\n",
        "        <td style=\"padding-left: 1em; padding-right: 1em; text-align: center; vertical-align: top\">grade</td>\n",
        "        <td style=\"padding-left: 1em; padding-right: 1em; text-align: center; vertical-align: top\">None</td>\n",
        "        <td style=\"padding-left: 1em; padding-right: 1em; text-align: center; vertical-align: top\">842.068034898</td>\n",
        "        <td style=\"padding-left: 1em; padding-right: 1em; text-align: center; vertical-align: top\">None</td>\n",
        "    </tr>\n",
        "    <tr>\n",
        "        <td style=\"padding-left: 1em; padding-right: 1em; text-align: center; vertical-align: top\">sqft_above</td>\n",
        "        <td style=\"padding-left: 1em; padding-right: 1em; text-align: center; vertical-align: top\">None</td>\n",
        "        <td style=\"padding-left: 1em; padding-right: 1em; text-align: center; vertical-align: top\">20.0247224171</td>\n",
        "        <td style=\"padding-left: 1em; padding-right: 1em; text-align: center; vertical-align: top\">None</td>\n",
        "    </tr>\n",
        "</table>\n",
        "[? rows x 4 columns]<br/>Note: Only the head of the SFrame is printed. This SFrame is lazily evaluated.<br/>You can use len(sf) to force materialization.\n",
        "</div>"
       ],
       "metadata": {},
       "output_type": "pyout",
       "prompt_number": 91,
       "text": [
        "Columns:\n",
        "\tname\tstr\n",
        "\tindex\tstr\n",
        "\tvalue\tfloat\n",
        "\tstderr\tfloat\n",
        "\n",
        "Rows: Unknown\n",
        "\n",
        "Data:\n",
        "+------------------+-------+---------------+--------+\n",
        "|       name       | index |     value     | stderr |\n",
        "+------------------+-------+---------------+--------+\n",
        "|   (intercept)    |  None |  274873.05595 |  None  |\n",
        "|    bathrooms     |  None | 8468.53108691 |  None  |\n",
        "|   sqft_living    |  None | 24.4207209824 |  None  |\n",
        "| sqft_living_sqrt |  None | 350.060553386 |  None  |\n",
        "|      grade       |  None | 842.068034898 |  None  |\n",
        "|    sqft_above    |  None | 20.0247224171 |  None  |\n",
        "+------------------+-------+---------------+--------+\n",
        "[? rows x 4 columns]\n",
        "Note: Only the head of the SFrame is printed. This SFrame is lazily evaluated.\n",
        "You can use len(sf) to force materialization."
       ]
      }
     ],
     "prompt_number": 91
    },
    {
     "cell_type": "markdown",
     "metadata": {},
     "source": [
      "Note that a majority of the weights have been set to zero. So by setting an L1 penalty that's large enough, we are performing a subset selection. \n",
      "\n",
      "***QUIZ QUESTION***:\n",
      "According to this list of weights, which of the features have been chosen? "
     ]
    },
    {
     "cell_type": "heading",
     "level": 1,
     "metadata": {},
     "source": [
      "Selecting an L1 penalty"
     ]
    },
    {
     "cell_type": "markdown",
     "metadata": {},
     "source": [
      "To find a good L1 penalty, we will explore multiple values using a validation set. Let us do three way split into train, validation, and test sets:\n",
      "* Split our sales data into 2 sets: training and test\n",
      "* Further split our training data into two sets: train, validation\n",
      "\n",
      "Be *very* careful that you use seed = 1 to ensure you get the same answer!"
     ]
    },
    {
     "cell_type": "code",
     "collapsed": true,
     "input": [
      "(training_and_validation, testing) = sales.random_split(.9,seed=1) # initial train/test split\n",
      "(training, validation) = training_and_validation.random_split(0.5, seed=1) # split training into train and validate"
     ],
     "language": "python",
     "metadata": {},
     "outputs": [],
     "prompt_number": 77
    },
    {
     "cell_type": "markdown",
     "metadata": {},
     "source": [
      "Next, we write a loop that does the following:\n",
      "* For `l1_penalty` in [10^1, 10^1.5, 10^2, 10^2.5, ..., 10^7] (to get this in Python, type `np.logspace(1, 7, num=13)`.)\n",
      "    * Fit a regression model with a given `l1_penalty` on TRAIN data. Specify `l1_penalty=l1_penalty` and `l2_penalty=0.` in the parameter list.\n",
      "    * Compute the RSS on VALIDATION data (here you will want to use `.predict()`) for that `l1_penalty`\n",
      "* Report which `l1_penalty` produced the lowest RSS on validation data.\n",
      "\n",
      "When you call `linear_regression.create()` make sure you set `validation_set = None`.\n",
      "\n",
      "Note: you can turn off the print out of `linear_regression.create()` with `verbose = False`"
     ]
    },
    {
     "cell_type": "code",
     "collapsed": true,
     "input": [
      "def get_residual_sum_of_squares(model, data, outcome):\n",
      "    # First get the predictions\n",
      "    predictions = model.predict(data)\n",
      "    \n",
      "    # Then compute the residuals/errors\n",
      "    residuals = predictions - outcome \n",
      "    \n",
      "    # Then square and add them up\n",
      "    RSS = residuals * residuals\n",
      "    RSS = RSS.sum()\n",
      "    return(RSS) "
     ],
     "language": "python",
     "metadata": {},
     "outputs": [],
     "prompt_number": 31
    },
    {
     "cell_type": "code",
     "collapsed": true,
     "input": [
      "def RSS(l1_penalty,data, my_features): \n",
      "    model = graphlab.linear_regression.create(training, target = 'price', features = my_features, \n",
      "                                          l2_penalty = 0, l1_penalty = l1_penalty, validation_set = None, \n",
      "                                          verbose = False)\n",
      "    rss = get_residual_sum_of_squares(model, data, data['price'])\n",
      "    return rss"
     ],
     "language": "python",
     "metadata": {},
     "outputs": [],
     "prompt_number": 78
    },
    {
     "cell_type": "code",
     "collapsed": false,
     "input": [
      "l1_penalty = np.logspace(1, 7, num=13)\n",
      "rss = ['']*len(l1_penalty)\n",
      "for i in range(len(l1_penalty)):\n",
      "    l1_penalty[i] = l1_penalty[i]\n",
      "    rss[i] = RSS(l1_penalty[i], validation, all_features)\n",
      "print (l1_penalty[i],min(rss))"
     ],
     "language": "python",
     "metadata": {},
     "outputs": [
      {
       "output_type": "stream",
       "stream": "stdout",
       "text": [
        "(10000000.0, 625766285142459.9)\n"
       ]
      }
     ],
     "prompt_number": 79
    },
    {
     "cell_type": "markdown",
     "metadata": {},
     "source": [
      "*** QUIZ QUESTIONS ***\n",
      "1. What was the best value for the `l1_penalty`?\n",
      "2. What is the RSS on TEST data of the model with the best `l1_penalty`?"
     ]
    },
    {
     "cell_type": "code",
     "collapsed": false,
     "input": [
      "RSS(10000000, testing, all_features)"
     ],
     "language": "python",
     "metadata": {},
     "outputs": [
      {
       "metadata": {},
       "output_type": "pyout",
       "prompt_number": 80,
       "text": [
        "156972779668688.7"
       ]
      }
     ],
     "prompt_number": 80
    },
    {
     "cell_type": "markdown",
     "metadata": {},
     "source": [
      "***QUIZ QUESTION***\n",
      "Also, using this value of L1 penalty, how many nonzero weights do you have?"
     ]
    },
    {
     "cell_type": "code",
     "collapsed": false,
     "input": [
      "model = graphlab.linear_regression.create(testing, target = 'price', features = all_features, \n",
      "                                          l2_penalty = 0, l1_penalty = 10000000, validation_set = None, \n",
      "                                          verbose = False)\n",
      "weight = model.get('coefficients')\n",
      "nonzero_weight = weight[weight['value']<>0]\n",
      "len(nonzero_weight)\n"
     ],
     "language": "python",
     "metadata": {},
     "outputs": [
      {
       "metadata": {},
       "output_type": "pyout",
       "prompt_number": 104,
       "text": [
        "18"
       ]
      }
     ],
     "prompt_number": 104
    },
    {
     "cell_type": "code",
     "collapsed": false,
     "input": [
      "model['coefficients']['value'].nnz()"
     ],
     "language": "python",
     "metadata": {},
     "outputs": [
      {
       "metadata": {},
       "output_type": "pyout",
       "prompt_number": 105,
       "text": [
        "18"
       ]
      }
     ],
     "prompt_number": 105
    },
    {
     "cell_type": "markdown",
     "metadata": {},
     "source": [
      "# Limit the number of nonzero weights\n",
      "\n",
      "What if we absolutely wanted to limit ourselves to, say, 7 features? This may be important if we want to derive \"a rule of thumb\" --- an interpretable model that has only a few features in them."
     ]
    },
    {
     "cell_type": "markdown",
     "metadata": {},
     "source": [
      "In this section, you are going to implement a simple, two phase procedure to achive this goal:\n",
      "1. Explore a large range of `l1_penalty` values to find a narrow region of `l1_penalty` values where models are likely to have the desired number of non-zero weights.\n",
      "2. Further explore the narrow region you found to find a good value for `l1_penalty` that achieves the desired sparsity.  Here, we will again use a validation set to choose the best value for `l1_penalty`."
     ]
    },
    {
     "cell_type": "code",
     "collapsed": true,
     "input": [
      "max_nonzeros = 7"
     ],
     "language": "python",
     "metadata": {},
     "outputs": [],
     "prompt_number": 117
    },
    {
     "cell_type": "markdown",
     "metadata": {},
     "source": [
      "## Exploring the larger range of values to find a narrow range with the desired sparsity\n",
      "\n",
      "Let's define a wide range of possible `l1_penalty_values`:"
     ]
    },
    {
     "cell_type": "code",
     "collapsed": false,
     "input": [
      "l1_penalty_values = np.logspace(8, 10, num=20)"
     ],
     "language": "python",
     "metadata": {},
     "outputs": [],
     "prompt_number": 143
    },
    {
     "cell_type": "markdown",
     "metadata": {},
     "source": [
      "Now, implement a loop that search through this space of possible `l1_penalty` values:\n",
      "\n",
      "* For `l1_penalty` in `np.logspace(8, 10, num=20)`:\n",
      "    * Fit a regression model with a given `l1_penalty` on TRAIN data. Specify `l1_penalty=l1_penalty` and `l2_penalty=0.` in the parameter list. When you call `linear_regression.create()` make sure you set `validation_set = None`\n",
      "    * Extract the weights of the model and count the number of nonzeros. Save the number of nonzeros to a list.\n",
      "        * *Hint: `model['coefficients']['value']` gives you an SArray with the parameters you learned.  If you call the method `.nnz()` on it, you will find the number of non-zero parameters!* "
     ]
    },
    {
     "cell_type": "code",
     "collapsed": false,
     "input": [
      "rss = ['']*len(l1_penalty_values)\n",
      "for i in range(len(l1_penalty_values)):\n",
      "    l1_penalty_values[i] = l1_penalty_values[i]\n",
      "    rss[i] = RSS(l1_penalty_values[i], validation, all_features)\n",
      "print (l1_penalty_values[i],min(rss))"
     ],
     "language": "python",
     "metadata": {},
     "outputs": [
      {
       "output_type": "stream",
       "stream": "stdout",
       "text": [
        "(10000000000.0, 627492659875075.5)\n"
       ]
      }
     ],
     "prompt_number": 119
    },
    {
     "cell_type": "code",
     "collapsed": false,
     "input": [
      "#alternative way using append rather than a loop \n",
      "z = []\n",
      "for i in l1_penalty_values:\n",
      "    z.append(RSS(i, validation, all_features))\n",
      "print z"
     ],
     "language": "python",
     "metadata": {},
     "outputs": [
      {
       "output_type": "stream",
       "stream": "stdout",
       "text": [
        "[627492659875075.5, 628210516770747.8, 629176689541061.1, 630650082718673.8, 632940229286984.0, 636268140229529.0, 641261198311188.2, 648983455376338.2, 660962217696068.4, 677261520727858.6, 701046815867077.6, 737850622829047.9, 796163109639832.8, 869018172893693.9, 966925692362084.5, 1081867592324110.6, 1244927360324959.0, 1384161490235113.0, 1230794720455648.5, 1229157160638600.0]\n"
       ]
      }
     ],
     "prompt_number": 146
    },
    {
     "cell_type": "code",
     "collapsed": false,
     "input": [
      "model_2 = graphlab.linear_regression.create(testing, target = 'price', features = all_features, \n",
      "                                          l2_penalty = 0, l1_penalty = 10000000000, validation_set = None, \n",
      "                                          verbose = False)\n",
      "model_2['coefficients']['value'].nnz()"
     ],
     "language": "python",
     "metadata": {},
     "outputs": [
      {
       "metadata": {},
       "output_type": "pyout",
       "prompt_number": 120,
       "text": [
        "1"
       ]
      }
     ],
     "prompt_number": 120
    },
    {
     "cell_type": "markdown",
     "metadata": {},
     "source": [
      "Out of this large range, we want to find the two ends of our desired narrow range of `l1_penalty`.  At one end, we will have `l1_penalty` values that have too few non-zeros, and at the other end, we will have an `l1_penalty` that has too many non-zeros.  \n",
      "\n",
      "More formally, find:\n",
      "* The largest `l1_penalty` that has more non-zeros than `max_nonzero` (if we pick a penalty smaller than this value, we will definitely have too many non-zero weights)\n",
      "    * Store this value in the variable `l1_penalty_min` (we will use it later)\n",
      "* The smallest `l1_penalty` that has fewer non-zeros than `max_nonzero` (if we pick a penalty larger than this value, we will definitely have too few non-zero weights)\n",
      "    * Store this value in the variable `l1_penalty_max` (we will use it later)\n",
      "\n",
      "\n",
      "*Hint: there are many ways to do this, e.g.:*\n",
      "* Programmatically within the loop above\n",
      "* Creating a list with the number of non-zeros for each value of `l1_penalty` and inspecting it to find the appropriate boundaries."
     ]
    },
    {
     "cell_type": "code",
     "collapsed": false,
     "input": [
      "for i in l1_penalty_values:\n",
      "    model_2 = graphlab.linear_regression.create(training, target = 'price', features = all_features, \n",
      "                                          l2_penalty = 0, l1_penalty = i, validation_set = None, \n",
      "                                          verbose = False)\n",
      "    nonzero = model_2['coefficients']['value'].nnz()\n",
      "    print (i, nonzero)"
     ],
     "language": "python",
     "metadata": {},
     "outputs": [
      {
       "output_type": "stream",
       "stream": "stdout",
       "text": [
        "(100000000.0, 18)\n",
        "(127427498.57031322, 18)\n",
        "(162377673.91887242, 18)\n",
        "(206913808.11147901, 18)\n",
        "(263665089.87303555, 17)\n",
        "(335981828.62837881, 17)\n",
        "(428133239.8719396, 17)\n",
        "(545559478.11685145, 17)\n",
        "(695192796.17755914, 17)\n",
        "(885866790.41008317, 16)\n",
        "(1128837891.6846883, 15)\n",
        "(1438449888.2876658, 15)\n",
        "(1832980710.8324375, 13)\n",
        "(2335721469.0901213, 12)\n",
        "(2976351441.6313133, 10)\n",
        "(3792690190.7322536, 6)\n",
        "(4832930238.5717525, 5)\n",
        "(6158482110.6602545, 3)\n",
        "(7847599703.5146227, 1)\n",
        "(10000000000.0, 1)\n"
       ]
      }
     ],
     "prompt_number": 114
    },
    {
     "cell_type": "code",
     "collapsed": false,
     "input": [
      "#####from github. look at how to use append \n",
      "nonzero = []\n",
      "for penalty in l1_penalty_values:\n",
      "    model = graphlab.linear_regression.create(training, target='price', features=all_features,\n",
      "                                              validation_set=None, verbose = False,\n",
      "                                              l2_penalty=0., l1_penalty=penalty)\n",
      "    nonzero.append(model['coefficients']['value'].nnz())\n",
      "print nonzero"
     ],
     "language": "python",
     "metadata": {},
     "outputs": [
      {
       "output_type": "stream",
       "stream": "stdout",
       "text": [
        "[18, 18, 18, 18, 17, 17, 17, 17, 17, 16, 15, 15, 13, 12, 10, 6, 5, 3, 1, 1]\n"
       ]
      }
     ],
     "prompt_number": 115
    },
    {
     "cell_type": "code",
     "collapsed": false,
     "input": [
      "i = 0\n",
      "while (nonzero[i] > max_nonzeros):\n",
      "    i += 1\n",
      "l1_penalty_min = l1_penalty_values[i - 1]\n",
      "print 'largest l1 penalty %s with nzz more than max-non-zero index %s' % (l1_penalty_min, i-1) \n",
      "l1_penalty_max = l1_penalty_values[i]\n",
      "print 'smallest l1 penalty %s with nzz less than max-non-zero index %s' % (l1_penalty_max, i)"
     ],
     "language": "python",
     "metadata": {},
     "outputs": [
      {
       "output_type": "stream",
       "stream": "stdout",
       "text": [
        "largest l1 penalty 2976351441.63 with nzz more than max-non-zero index 14\n",
        "smallest l1 penalty 3792690190.73 with nzz less than max-non-zero index 15\n"
       ]
      }
     ],
     "prompt_number": 121
    },
    {
     "cell_type": "markdown",
     "metadata": {},
     "source": [
      "***QUIZ QUESTIONS***\n",
      "\n",
      "What values did you find for `l1_penalty_min` and`l1_penalty_max`? "
     ]
    },
    {
     "cell_type": "markdown",
     "metadata": {},
     "source": [
      "## Exploring the narrow range of values to find the solution with the right number of non-zeros that has lowest RSS on the validation set \n",
      "\n",
      "We will now explore the narrow region of `l1_penalty` values we found:"
     ]
    },
    {
     "cell_type": "code",
     "collapsed": false,
     "input": [
      "l1_penalty_values_narrow = np.linspace(l1_penalty_min,l1_penalty_max,20)\n",
      "l1_penalty_values_narrow"
     ],
     "language": "python",
     "metadata": {},
     "outputs": [
      {
       "metadata": {},
       "output_type": "pyout",
       "prompt_number": 126,
       "text": [
        "array([  2.97635144e+09,   3.01931664e+09,   3.06228184e+09,\n",
        "         3.10524703e+09,   3.14821223e+09,   3.19117743e+09,\n",
        "         3.23414263e+09,   3.27710782e+09,   3.32007302e+09,\n",
        "         3.36303822e+09,   3.40600341e+09,   3.44896861e+09,\n",
        "         3.49193381e+09,   3.53489901e+09,   3.57786420e+09,\n",
        "         3.62082940e+09,   3.66379460e+09,   3.70675980e+09,\n",
        "         3.74972499e+09,   3.79269019e+09])"
       ]
      }
     ],
     "prompt_number": 126
    },
    {
     "cell_type": "markdown",
     "metadata": {},
     "source": [
      "* For `l1_penalty` in `np.linspace(l1_penalty_min,l1_penalty_max,20)`:\n",
      "    * Fit a regression model with a given `l1_penalty` on TRAIN data. Specify `l1_penalty=l1_penalty` and `l2_penalty=0.` in the parameter list. When you call `linear_regression.create()` make sure you set `validation_set = None`\n",
      "    * Measure the RSS of the learned model on the VALIDATION set\n",
      "\n",
      "Find the model that the lowest RSS on the VALIDATION set and has sparsity *equal* to `max_nonzero`."
     ]
    },
    {
     "cell_type": "code",
     "collapsed": false,
     "input": [
      "rss_max = float('inf')\n",
      "for i in l1_penalty_values_narrow:\n",
      "    model = graphlab.linear_regression.create(training, target='price', features=all_features,\n",
      "                                              validation_set=None, verbose = False,\n",
      "                                              l2_penalty=0, l1_penalty=i)\n",
      "    if (model['coefficients']['value'].nnz() == max_nonzeros):\n",
      "        rss = RSS(i , validation, all_features)\n",
      "        if rss < rss_max:\n",
      "            best_l1_penalty = i\n",
      "            rss_max = rss\n",
      "            best_model = model\n",
      "print ('rss_max',rss_max)\n",
      "print ('best_l1_penalty',best_l1_penalty)\n",
      "best_model['coefficients']['value'].nnz()\n",
      "best_model.get('coefficients')"
     ],
     "language": "python",
     "metadata": {},
     "outputs": [
      {
       "output_type": "stream",
       "stream": "stdout",
       "text": [
        "('rss_max', 1046937488751711.1)\n",
        "('best_l1_penalty', 3448968612.1634369)\n"
       ]
      },
      {
       "html": [
        "<div style=\"max-height:1000px;max-width:1500px;overflow:auto;\"><table frame=\"box\" rules=\"cols\">\n",
        "    <tr>\n",
        "        <th style=\"padding-left: 1em; padding-right: 1em; text-align: center\">name</th>\n",
        "        <th style=\"padding-left: 1em; padding-right: 1em; text-align: center\">index</th>\n",
        "        <th style=\"padding-left: 1em; padding-right: 1em; text-align: center\">value</th>\n",
        "        <th style=\"padding-left: 1em; padding-right: 1em; text-align: center\">stderr</th>\n",
        "    </tr>\n",
        "    <tr>\n",
        "        <td style=\"padding-left: 1em; padding-right: 1em; text-align: center; vertical-align: top\">(intercept)</td>\n",
        "        <td style=\"padding-left: 1em; padding-right: 1em; text-align: center; vertical-align: top\">None</td>\n",
        "        <td style=\"padding-left: 1em; padding-right: 1em; text-align: center; vertical-align: top\">222253.192544</td>\n",
        "        <td style=\"padding-left: 1em; padding-right: 1em; text-align: center; vertical-align: top\">None</td>\n",
        "    </tr>\n",
        "    <tr>\n",
        "        <td style=\"padding-left: 1em; padding-right: 1em; text-align: center; vertical-align: top\">bedrooms</td>\n",
        "        <td style=\"padding-left: 1em; padding-right: 1em; text-align: center; vertical-align: top\">None</td>\n",
        "        <td style=\"padding-left: 1em; padding-right: 1em; text-align: center; vertical-align: top\">661.722717782</td>\n",
        "        <td style=\"padding-left: 1em; padding-right: 1em; text-align: center; vertical-align: top\">None</td>\n",
        "    </tr>\n",
        "    <tr>\n",
        "        <td style=\"padding-left: 1em; padding-right: 1em; text-align: center; vertical-align: top\">bedrooms_square</td>\n",
        "        <td style=\"padding-left: 1em; padding-right: 1em; text-align: center; vertical-align: top\">None</td>\n",
        "        <td style=\"padding-left: 1em; padding-right: 1em; text-align: center; vertical-align: top\">0.0</td>\n",
        "        <td style=\"padding-left: 1em; padding-right: 1em; text-align: center; vertical-align: top\">None</td>\n",
        "    </tr>\n",
        "    <tr>\n",
        "        <td style=\"padding-left: 1em; padding-right: 1em; text-align: center; vertical-align: top\">bathrooms</td>\n",
        "        <td style=\"padding-left: 1em; padding-right: 1em; text-align: center; vertical-align: top\">None</td>\n",
        "        <td style=\"padding-left: 1em; padding-right: 1em; text-align: center; vertical-align: top\">15873.9572593</td>\n",
        "        <td style=\"padding-left: 1em; padding-right: 1em; text-align: center; vertical-align: top\">None</td>\n",
        "    </tr>\n",
        "    <tr>\n",
        "        <td style=\"padding-left: 1em; padding-right: 1em; text-align: center; vertical-align: top\">sqft_living</td>\n",
        "        <td style=\"padding-left: 1em; padding-right: 1em; text-align: center; vertical-align: top\">None</td>\n",
        "        <td style=\"padding-left: 1em; padding-right: 1em; text-align: center; vertical-align: top\">32.4102214513</td>\n",
        "        <td style=\"padding-left: 1em; padding-right: 1em; text-align: center; vertical-align: top\">None</td>\n",
        "    </tr>\n",
        "    <tr>\n",
        "        <td style=\"padding-left: 1em; padding-right: 1em; text-align: center; vertical-align: top\">sqft_living_sqrt</td>\n",
        "        <td style=\"padding-left: 1em; padding-right: 1em; text-align: center; vertical-align: top\">None</td>\n",
        "        <td style=\"padding-left: 1em; padding-right: 1em; text-align: center; vertical-align: top\">690.114773313</td>\n",
        "        <td style=\"padding-left: 1em; padding-right: 1em; text-align: center; vertical-align: top\">None</td>\n",
        "    </tr>\n",
        "    <tr>\n",
        "        <td style=\"padding-left: 1em; padding-right: 1em; text-align: center; vertical-align: top\">sqft_lot</td>\n",
        "        <td style=\"padding-left: 1em; padding-right: 1em; text-align: center; vertical-align: top\">None</td>\n",
        "        <td style=\"padding-left: 1em; padding-right: 1em; text-align: center; vertical-align: top\">0.0</td>\n",
        "        <td style=\"padding-left: 1em; padding-right: 1em; text-align: center; vertical-align: top\">None</td>\n",
        "    </tr>\n",
        "    <tr>\n",
        "        <td style=\"padding-left: 1em; padding-right: 1em; text-align: center; vertical-align: top\">sqft_lot_sqrt</td>\n",
        "        <td style=\"padding-left: 1em; padding-right: 1em; text-align: center; vertical-align: top\">None</td>\n",
        "        <td style=\"padding-left: 1em; padding-right: 1em; text-align: center; vertical-align: top\">0.0</td>\n",
        "        <td style=\"padding-left: 1em; padding-right: 1em; text-align: center; vertical-align: top\">None</td>\n",
        "    </tr>\n",
        "    <tr>\n",
        "        <td style=\"padding-left: 1em; padding-right: 1em; text-align: center; vertical-align: top\">floors</td>\n",
        "        <td style=\"padding-left: 1em; padding-right: 1em; text-align: center; vertical-align: top\">None</td>\n",
        "        <td style=\"padding-left: 1em; padding-right: 1em; text-align: center; vertical-align: top\">0.0</td>\n",
        "        <td style=\"padding-left: 1em; padding-right: 1em; text-align: center; vertical-align: top\">None</td>\n",
        "    </tr>\n",
        "    <tr>\n",
        "        <td style=\"padding-left: 1em; padding-right: 1em; text-align: center; vertical-align: top\">floors_square</td>\n",
        "        <td style=\"padding-left: 1em; padding-right: 1em; text-align: center; vertical-align: top\">None</td>\n",
        "        <td style=\"padding-left: 1em; padding-right: 1em; text-align: center; vertical-align: top\">0.0</td>\n",
        "        <td style=\"padding-left: 1em; padding-right: 1em; text-align: center; vertical-align: top\">None</td>\n",
        "    </tr>\n",
        "</table>\n",
        "[18 rows x 4 columns]<br/>Note: Only the head of the SFrame is printed.<br/>You can use print_rows(num_rows=m, num_columns=n) to print more rows and columns.\n",
        "</div>"
       ],
       "metadata": {},
       "output_type": "pyout",
       "prompt_number": 152,
       "text": [
        "Columns:\n",
        "\tname\tstr\n",
        "\tindex\tstr\n",
        "\tvalue\tfloat\n",
        "\tstderr\tfloat\n",
        "\n",
        "Rows: 18\n",
        "\n",
        "Data:\n",
        "+------------------+-------+---------------+--------+\n",
        "|       name       | index |     value     | stderr |\n",
        "+------------------+-------+---------------+--------+\n",
        "|   (intercept)    |  None | 222253.192544 |  None  |\n",
        "|     bedrooms     |  None | 661.722717782 |  None  |\n",
        "| bedrooms_square  |  None |      0.0      |  None  |\n",
        "|    bathrooms     |  None | 15873.9572593 |  None  |\n",
        "|   sqft_living    |  None | 32.4102214513 |  None  |\n",
        "| sqft_living_sqrt |  None | 690.114773313 |  None  |\n",
        "|     sqft_lot     |  None |      0.0      |  None  |\n",
        "|  sqft_lot_sqrt   |  None |      0.0      |  None  |\n",
        "|      floors      |  None |      0.0      |  None  |\n",
        "|  floors_square   |  None |      0.0      |  None  |\n",
        "+------------------+-------+---------------+--------+\n",
        "[18 rows x 4 columns]\n",
        "Note: Only the head of the SFrame is printed.\n",
        "You can use print_rows(num_rows=m, num_columns=n) to print more rows and columns."
       ]
      }
     ],
     "prompt_number": 152
    },
    {
     "cell_type": "markdown",
     "metadata": {},
     "source": [
      "***QUIZ QUESTIONS***\n",
      "1. What value of `l1_penalty` in our narrow range has the lowest RSS on the VALIDATION set and has sparsity *equal* to `max_nonzeros`?\n",
      "2. What features in this model have non-zero coefficients?"
     ]
    },
    {
     "cell_type": "code",
     "collapsed": false,
     "input": [],
     "language": "python",
     "metadata": {},
     "outputs": [],
     "prompt_number": null
    }
   ],
   "metadata": {}
  }
 ]
}